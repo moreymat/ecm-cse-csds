{
 "cells": [
  {
   "cell_type": "markdown",
   "source": [
    "# Quiz 1\n"
   ],
   "metadata": {}
  },
  {
   "cell_type": "code",
   "execution_count": 6,
   "source": [
    "import pandas as pd"
   ],
   "outputs": [],
   "metadata": {}
  },
  {
   "cell_type": "code",
   "execution_count": 12,
   "source": [
    "# change to your own path\n",
    "CSV_FILE = '../data/processed/off_tiny.csv'"
   ],
   "outputs": [],
   "metadata": {}
  },
  {
   "cell_type": "markdown",
   "source": [
    "Load the dataset from the CSV file in a pandas DataFrame."
   ],
   "metadata": {}
  },
  {
   "cell_type": "code",
   "execution_count": 9,
   "source": [
    "df = pd.read_csv(CSV_FILE, sep='\\t')"
   ],
   "outputs": [],
   "metadata": {}
  },
  {
   "cell_type": "markdown",
   "source": [
    "What are the column names and (pandas) types ?"
   ],
   "metadata": {}
  },
  {
   "cell_type": "code",
   "execution_count": 11,
   "source": [
    "df.info()"
   ],
   "outputs": [
    {
     "output_type": "stream",
     "name": "stdout",
     "text": [
      "<class 'pandas.core.frame.DataFrame'>\n",
      "RangeIndex: 10000 entries, 0 to 9999\n",
      "Data columns (total 9 columns):\n",
      " #   Column            Non-Null Count  Dtype  \n",
      "---  ------            --------------  -----  \n",
      " 0   code              10000 non-null  int64  \n",
      " 1   product_name      10000 non-null  object \n",
      " 2   brands            10000 non-null  object \n",
      " 3   nutriscore_score  8538 non-null   float64\n",
      " 4   nutriscore_grade  8538 non-null   object \n",
      " 5   main_category_en  10000 non-null  object \n",
      " 6   fat_100g          9500 non-null   float64\n",
      " 7   sugars_100g       9302 non-null   float64\n",
      " 8   proteins_100g     9476 non-null   float64\n",
      "dtypes: float64(4), int64(1), object(4)\n",
      "memory usage: 703.2+ KB\n"
     ]
    }
   ],
   "metadata": {}
  },
  {
   "cell_type": "markdown",
   "source": [
    "Display the first few lines."
   ],
   "metadata": {}
  },
  {
   "cell_type": "code",
   "execution_count": 5,
   "source": [],
   "outputs": [],
   "metadata": {}
  },
  {
   "cell_type": "markdown",
   "source": [
    "Which columns correspond to continuous quantitative variables ? Why ?"
   ],
   "metadata": {}
  },
  {
   "cell_type": "markdown",
   "source": [],
   "metadata": {}
  },
  {
   "cell_type": "markdown",
   "source": [
    "Which columns correspond to discrete quantitative variables ? Why ?"
   ],
   "metadata": {}
  },
  {
   "cell_type": "markdown",
   "source": [],
   "metadata": {}
  },
  {
   "cell_type": "markdown",
   "source": [
    "Which columns correspond to categorical variables ? Why ?"
   ],
   "metadata": {}
  },
  {
   "cell_type": "markdown",
   "source": [],
   "metadata": {}
  },
  {
   "cell_type": "markdown",
   "source": [
    "Compute the average of the quantitative variables."
   ],
   "metadata": {}
  },
  {
   "cell_type": "code",
   "execution_count": null,
   "source": [],
   "outputs": [],
   "metadata": {}
  },
  {
   "cell_type": "markdown",
   "source": [
    "Find the mode (most frequent value) of the categorical variables."
   ],
   "metadata": {}
  },
  {
   "cell_type": "code",
   "execution_count": null,
   "source": [],
   "outputs": [],
   "metadata": {}
  }
 ],
 "metadata": {
  "orig_nbformat": 4,
  "language_info": {
   "name": "python",
   "version": "3.8.6",
   "mimetype": "text/x-python",
   "codemirror_mode": {
    "name": "ipython",
    "version": 3
   },
   "pygments_lexer": "ipython3",
   "nbconvert_exporter": "python",
   "file_extension": ".py"
  },
  "kernelspec": {
   "name": "python3",
   "display_name": "Python 3.8.6 64-bit ('off-explore': conda)"
  },
  "interpreter": {
   "hash": "809465835ed027ebe7e83c111c55476857c16b60afbf24207c5fcf2d501ce469"
  }
 },
 "nbformat": 4,
 "nbformat_minor": 2
}