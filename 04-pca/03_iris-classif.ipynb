{
 "cells": [
  {
   "cell_type": "markdown",
   "metadata": {},
   "source": [
    "# Classification\n",
    "\n",
    "We want to train a machine learning model that can determine the species of an iris given its measurements.\n",
    "We will try a number of machine learning models, on the original feature matrix as well as on the PCA-reduced feature matrix."
   ]
  },
  {
   "cell_type": "code",
   "execution_count": 51,
   "metadata": {},
   "outputs": [],
   "source": [
    "import matplotlib.pyplot as plt"
   ]
  },
  {
   "cell_type": "code",
   "execution_count": 32,
   "metadata": {},
   "outputs": [
    {
     "data": {
      "text/plain": [
       "((150, 4), (150,))"
      ]
     },
     "execution_count": 32,
     "metadata": {},
     "output_type": "execute_result"
    }
   ],
   "source": [
    "# load the iris dataset\n",
    "from sklearn.datasets import load_iris\n",
    "iris = load_iris()\n",
    "X = iris.data\n",
    "y = iris.target\n",
    "target_names = iris.target_names\n",
    "# display the shape of the feature matrix and target vector to check\n",
    "# that we have the data we expect\n",
    "X.shape, y.shape"
   ]
  },
  {
   "cell_type": "markdown",
   "metadata": {},
   "source": [
    "First, we need to split the dataset into a training set and a test set.\n",
    "scikit-learn provides a utility function [train_test_split](https://scikit-learn.org/stable/modules/generated/sklearn.model_selection.train_test_split.html) that randomly splits a dataset.\n",
    "It is one of the basic techniques for [cross-validation](https://scikit-learn.org/stable/modules/cross_validation.html#cross-validation)."
   ]
  },
  {
   "cell_type": "code",
   "execution_count": 54,
   "metadata": {},
   "outputs": [],
   "source": [
    "# split the dataset in a training set and a test set\n",
    "# we split the data 60-40 between train and test\n",
    "from sklearn.model_selection import train_test_split\n",
    "X_train, X_test, y_train, y_test = train_test_split(X, y, test_size=0.4)"
   ]
  },
  {
   "cell_type": "code",
   "execution_count": 78,
   "metadata": {},
   "outputs": [],
   "source": [
    "# TODO display the shape of X_train and y_train\n"
   ]
  },
  {
   "cell_type": "code",
   "execution_count": 79,
   "metadata": {},
   "outputs": [],
   "source": [
    "# TODO display the shape of X_test and y_test\n"
   ]
  },
  {
   "cell_type": "markdown",
   "metadata": {},
   "source": [
    "## Logistic regression\n",
    "We start with a simple model : [Logistic regression](https://scikit-learn.org/stable/modules/linear_model.html#logistic-regression)."
   ]
  },
  {
   "cell_type": "code",
   "execution_count": 58,
   "metadata": {},
   "outputs": [
    {
     "data": {
      "text/plain": [
       "LogisticRegression(max_iter=1000)"
      ]
     },
     "execution_count": 58,
     "metadata": {},
     "output_type": "execute_result"
    }
   ],
   "source": [
    "from sklearn import linear_model\n",
    "clf_lr = linear_model.LogisticRegression(max_iter=1000)\n",
    "# fit the model to the training data\n",
    "clf_lr.fit(X_train, y_train)"
   ]
  },
  {
   "cell_type": "markdown",
   "metadata": {},
   "source": [
    "The learned coefficients and bias terms of the decision functions in the logistic regression model are stored in `reg.coef_` and `reg.intercept_`.\n",
    "Here, the model has a vector of coefficients for each class (3 target values), with a coefficient for each feature."
   ]
  },
  {
   "cell_type": "code",
   "execution_count": 80,
   "metadata": {},
   "outputs": [],
   "source": [
    "# TODO display the coefficients\n"
   ]
  },
  {
   "cell_type": "code",
   "execution_count": 81,
   "metadata": {},
   "outputs": [],
   "source": [
    "# TODO display the intercepts\n"
   ]
  },
  {
   "cell_type": "markdown",
   "metadata": {},
   "source": [
    "The trained model can be used to predict the class of the samples in the test set, with the function `predict`."
   ]
  },
  {
   "cell_type": "code",
   "execution_count": 61,
   "metadata": {},
   "outputs": [
    {
     "data": {
      "text/plain": [
       "array([1, 2, 0, 0, 1, 2, 2, 2, 2, 2, 2, 0, 1, 2, 0, 0, 0, 1, 1, 2, 2, 0,\n",
       "       0, 0, 1, 1, 2, 2, 1, 1, 1, 2, 1, 0, 2, 1, 1, 2, 1, 0, 1, 2, 1, 2,\n",
       "       1, 0, 0, 2, 1, 2, 1, 0, 2, 0, 1, 2, 1, 0, 0, 2])"
      ]
     },
     "execution_count": 61,
     "metadata": {},
     "output_type": "execute_result"
    }
   ],
   "source": [
    "y_test_pred = clf_lr.predict(X_test)\n",
    "y_test_pred"
   ]
  },
  {
   "cell_type": "markdown",
   "metadata": {},
   "source": [
    "Models in scikit-learn have a `score` function that predicts values, compares the predictions with the ground truth, and returns an evaluation criterion that depends on the model (hence you need to read the documentation of each model you use !).\n",
    "For linear regression, this evaluation criterion is the coefficient of determination R^2 of the prediction."
   ]
  },
  {
   "cell_type": "code",
   "execution_count": 62,
   "metadata": {},
   "outputs": [
    {
     "data": {
      "text/plain": [
       "0.9333333333333333"
      ]
     },
     "execution_count": 62,
     "metadata": {},
     "output_type": "execute_result"
    }
   ],
   "source": [
    "clf_lr.score(X_test, y_test)"
   ]
  },
  {
   "cell_type": "markdown",
   "metadata": {},
   "source": [
    "But in general, we are interested in the accuracy of the predictions, overall and by class.\n",
    "For this we can use the function that builds a [classification report](https://scikit-learn.org/stable/modules/model_evaluation.html#classification-report).\n",
    "Providing the `target_names` enables to get a report with the class names instead of their encoding as integers (0, 1, 2)."
   ]
  },
  {
   "cell_type": "code",
   "execution_count": 63,
   "metadata": {},
   "outputs": [
    {
     "name": "stdout",
     "output_type": "stream",
     "text": [
      "              precision    recall  f1-score   support\n",
      "\n",
      "      setosa       1.00      1.00      1.00        17\n",
      "  versicolor       0.86      0.95      0.90        19\n",
      "   virginica       0.95      0.88      0.91        24\n",
      "\n",
      "    accuracy                           0.93        60\n",
      "   macro avg       0.94      0.94      0.94        60\n",
      "weighted avg       0.94      0.93      0.93        60\n",
      "\n"
     ]
    }
   ],
   "source": [
    "from sklearn.metrics import classification_report\n",
    "print(classification_report(y_test, y_test_pred, target_names=target_names))"
   ]
  },
  {
   "cell_type": "markdown",
   "metadata": {},
   "source": [
    "What are the precision, recall and f1-score for the \"setosa\" irises? For the \"versicolor\" and \"virginica\" ? Were you expecting these scores ?"
   ]
  },
  {
   "cell_type": "markdown",
   "metadata": {},
   "source": [
    "(You probably want to answer more than just \"yes\" or \"no\".) "
   ]
  },
  {
   "cell_type": "markdown",
   "metadata": {},
   "source": [
    "We would like to know more about the samples that are misclassified between versicolor and \n",
    "virginica.\n",
    "We can display a [confusion matrix](https://scikit-learn.org/stable/modules/model_evaluation.html#confusion-matrix) to know how many versicolor irises were wrongly classified as virginica, and how many virginica were wrongly classified as versicolor."
   ]
  },
  {
   "cell_type": "code",
   "execution_count": 65,
   "metadata": {},
   "outputs": [
    {
     "data": {
      "text/plain": [
       "<sklearn.metrics._plot.confusion_matrix.ConfusionMatrixDisplay at 0x7f70d30a42b0>"
      ]
     },
     "execution_count": 65,
     "metadata": {},
     "output_type": "execute_result"
    },
    {
     "data": {
      "image/png": "[encoded data removed]",
      "text/plain": [
       "<Figure size 432x288 with 2 Axes>"
      ]
     },
     "metadata": {
      "needs_background": "light"
     },
     "output_type": "display_data"
    }
   ],
   "source": [
    "# plot_confusion_matrix takes the classifier and X_test, and predicts y_test_pred ;\n",
    "# which it then compares to y_test\n",
    "from sklearn.metrics import plot_confusion_matrix\n",
    "plot_confusion_matrix(clf_lr, X_test, y_test,\n",
    "                      display_labels=target_names,\n",
    "                      cmap=plt.cm.Blues)"
   ]
  },
  {
   "cell_type": "markdown",
   "metadata": {},
   "source": [
    "We saw earlier that the training-test split was randomly assigning each sample to either the training or test set.\n",
    "Re-run the cell with the call to `train_test_split`, then re-run all cells between that cell and the current one.\n",
    "You should see the results and confusion matrix changing ; if you do not, there might be a problem with your notebook and you should ask for assistance."
   ]
  },
  {
   "cell_type": "markdown",
   "metadata": {},
   "source": [
    "### Linear regression on the reduced dataset\n",
    "The same type of classifier can be made to use the PCA reduced feature matrix instead of the original feature matrix.\n",
    "\n",
    "We can compute the principal components of the feature matrix X_train, and project on them the two feature matrices X_train and X_test."
   ]
  },
  {
   "cell_type": "code",
   "execution_count": 67,
   "metadata": {},
   "outputs": [],
   "source": [
    "from sklearn.decomposition import PCA\n",
    "# create a PCA model that will map the input data to 3 dimensions\n",
    "pca = PCA(n_components=3)\n",
    "# compute the principal components on the feature matrix of the training set, X_train\n",
    "pca.fit(X_train)\n",
    "# the PCA computed on X_train can be used to reduce the feature matrix X_train,\n",
    "# but also X_test\n",
    "X_r_train = pca.transform(X_train)\n",
    "X_r_test = pca.transform(X_test)"
   ]
  },
  {
   "cell_type": "markdown",
   "metadata": {},
   "source": [
    "We can now fit a logistic regression classifier on the reduced version of X_train."
   ]
  },
  {
   "cell_type": "code",
   "execution_count": 68,
   "metadata": {},
   "outputs": [
    {
     "data": {
      "text/plain": [
       "LogisticRegression(max_iter=1000)"
      ]
     },
     "execution_count": 68,
     "metadata": {},
     "output_type": "execute_result"
    }
   ],
   "source": [
    "clf_r_lr = linear_model.LogisticRegression(max_iter=1000)\n",
    "# fit the model to the training data\n",
    "clf_r_lr.fit(X_r_train, y_train)"
   ]
  },
  {
   "cell_type": "markdown",
   "metadata": {},
   "source": [
    "We fit a PCA with 3 components, so the coefs and intercepts will be quite different in the reduced feature space from what they were in the original feature space."
   ]
  },
  {
   "cell_type": "code",
   "execution_count": 82,
   "metadata": {},
   "outputs": [],
   "source": [
    "# TODO display the coefficients\n"
   ]
  },
  {
   "cell_type": "code",
   "execution_count": 83,
   "metadata": {},
   "outputs": [],
   "source": [
    "# TODO display the intercepts\n"
   ]
  },
  {
   "cell_type": "markdown",
   "metadata": {},
   "source": [
    "How accurate is the classifier in this reduced feature space?"
   ]
  },
  {
   "cell_type": "code",
   "execution_count": 84,
   "metadata": {},
   "outputs": [],
   "source": [
    "# TODO display the score of clf_r_lr on the test set\n"
   ]
  },
  {
   "cell_type": "markdown",
   "metadata": {},
   "source": [
    "We can check the detailed report and confusion matrix."
   ]
  },
  {
   "cell_type": "code",
   "execution_count": 85,
   "metadata": {},
   "outputs": [],
   "source": [
    "y_r_test_pred = clf_r_lr.predict(X_r_test)\n",
    "# TODO display the classification report for y_r_test_pred\n"
   ]
  },
  {
   "cell_type": "code",
   "execution_count": 86,
   "metadata": {},
   "outputs": [],
   "source": [
    "# TODO display the confusion matrix for clf_r_lr and X_r_test\n"
   ]
  },
  {
   "cell_type": "markdown",
   "metadata": {},
   "source": [
    "The PCA enabled to reduce the dimensionality (from 4 to 3 dimensions) of the data with no loss of performance.\n",
    "This is good, because it reduced the complexity and cost of fitting a classifier.\n",
    "You could not really feel the impact on the small iris dataset but on bigger datasets, with a larger number of features, applying a dimensionality reduction method as a pre-processing step unlocks the usage of very complex models.\n",
    "\n",
    "Reducing the dimensionality of a dataset can however induce a loss of information that limits the ability of a machine learning model to accurately describe the dataset and degrades its performance.\n",
    "This happens when the number of dimensions in the reduced space does not enable to capture enough variance from the original data (the sum of the `explained_variance_ratio_` is too small because `n_components` is too small).\n",
    "Another case where this happens, is when the most discriminative features between your classes are subtle differences that are captured by the last principal components. Preserving 90 or 95% of the variance in the original dataset is useless when the discriminative features are in the 10 or 5 remaining percents of the variance."
   ]
  }
 ],
 "metadata": {
  "kernelspec": {
   "display_name": "Python 3",
   "language": "python",
   "name": "python3"
  },
  "language_info": {
   "codemirror_mode": {
    "name": "ipython",
    "version": 3
   },
   "file_extension": ".py",
   "mimetype": "text/x-python",
   "name": "python",
   "nbconvert_exporter": "python",
   "pygments_lexer": "ipython3",
   "version": "3.6.11"
  }
 },
 "nbformat": 4,
 "nbformat_minor": 4
}
